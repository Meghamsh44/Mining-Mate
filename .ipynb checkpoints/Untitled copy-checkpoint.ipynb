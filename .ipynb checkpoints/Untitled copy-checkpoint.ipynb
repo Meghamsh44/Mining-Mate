{
 "cells": [
  {
   "cell_type": "code",
   "execution_count": 1,
   "id": "226f9eb7-cca5-4473-87e1-8655ef8887f3",
   "metadata": {},
   "outputs": [
    {
     "name": "stdout",
     "output_type": "stream",
     "text": [
      "Dataset created and saved to dataset.parquet\n"
     ]
    },
    {
     "name": "stderr",
     "output_type": "stream",
     "text": [
      "[nltk_data] Downloading package punkt to\n",
      "[nltk_data]     /Users/tribhangind/nltk_data...\n",
      "[nltk_data]   Package punkt is already up-to-date!\n"
     ]
    }
   ],
   "source": [
    "import fitz\n",
    "import pandas as pd\n",
    "import json\n",
    "from nltk import sent_tokenize\n",
    "import nltk\n",
    "import re\n",
    "\n",
    "nltk.download('punkt')\n",
    "\n",
    "def extract_text_from_pdf(pdf_path):\n",
    "    doc = fitz.open(pdf_path)\n",
    "    text = \"\"\n",
    "    for page_num in range(doc.page_count):\n",
    "        page = doc[page_num]\n",
    "        text += page.get_text()\n",
    "    return text\n",
    "\n",
    "def clean_text(text):\n",
    "    # Remove non-alphabetic characters and punctuation\n",
    "    cleaned_text = re.sub(r'[^a-zA-Z\\s]', '', text)\n",
    "    # Convert to lowercase\n",
    "    cleaned_text = cleaned_text.lower()\n",
    "    # Remove extra whitespaces\n",
    "    cleaned_text = ' '.join(cleaned_text.split())\n",
    "    return cleaned_text\n",
    "\n",
    "def split_content(content):\n",
    "    sentences = sent_tokenize(content)\n",
    "    return sentences\n",
    "\n",
    "def create_dataframe(pdf_paths):\n",
    "    data = []\n",
    "\n",
    "    for idx, pdf_path in enumerate(pdf_paths):\n",
    "        content = extract_text_from_pdf(pdf_path)\n",
    "        content = clean_text(content)\n",
    "        sentences = split_content(content)\n",
    "\n",
    "        for i, sentence in enumerate(sentences):\n",
    "            entry = {\n",
    "                \"id\": f\"pdf_{idx + 1}_{i + 1}\",\n",
    "                \"content\": sentence,\n",
    "                \"content_type\": \"text\",\n",
    "            }\n",
    "\n",
    "            data.append(entry)\n",
    "\n",
    "    return pd.DataFrame(data)\n",
    "\n",
    "def save_dataframe_to_parquet(dataframe, output_file):\n",
    "    dataframe.to_parquet(output_file, engine='pyarrow')\n",
    "\n",
    "if __name__ == \"__main__\":\n",
    "    # Replace with the paths to your PDF files\n",
    "    pdf_files = [\"data/Colliery_control_order_0_0.pdf\",\"data/cba.pdf\",\"data/DGMScircular1_2023.pdf\",\"data/Indian-Explosives-Act.pdf\",\"data/land_acquisition_act_1894.pdf\",\"data/theminesact1952.pdf\"]\n",
    "\n",
    "    output_parquet_file = \"dataset.parquet\"\n",
    "\n",
    "    created_dataframe = create_dataframe(pdf_files)\n",
    "    save_dataframe_to_parquet(created_dataframe, output_parquet_file)\n",
    "\n",
    "    print(f\"Dataset created and saved to {output_parquet_file}\")\n"
   ]
  },
  {
   "cell_type": "code",
   "execution_count": null,
   "id": "06844015-836d-4822-913d-17b63f0340c3",
   "metadata": {},
   "outputs": [],
   "source": []
  }
 ],
 "metadata": {
  "kernelspec": {
   "display_name": "Python 3 (ipykernel)",
   "language": "python",
   "name": "python3"
  },
  "language_info": {
   "codemirror_mode": {
    "name": "ipython",
    "version": 3
   },
   "file_extension": ".py",
   "mimetype": "text/x-python",
   "name": "python",
   "nbconvert_exporter": "python",
   "pygments_lexer": "ipython3",
   "version": "3.10.12"
  }
 },
 "nbformat": 4,
 "nbformat_minor": 5
}
